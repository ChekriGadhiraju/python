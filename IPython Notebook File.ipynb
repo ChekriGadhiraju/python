{
 "cells": [
  {
   "cell_type": "code",
   "execution_count": 6,
   "id": "5b9a0acd",
   "metadata": {},
   "outputs": [],
   "source": [
    "# Data Science Tools and Ecosystem\n"
   ]
  },
  {
   "cell_type": "code",
   "execution_count": 7,
   "id": "f812c168",
   "metadata": {},
   "outputs": [
    {
     "data": {
      "text/plain": [
       "'In this notebook, Data Science Tools and Ecosystem are summarized.'"
      ]
     },
     "execution_count": 7,
     "metadata": {},
     "output_type": "execute_result"
    }
   ],
   "source": [
    "\"In this notebook, Data Science Tools and Ecosystem are summarized.\""
   ]
  },
  {
   "cell_type": "code",
   "execution_count": 10,
   "id": "03b4bef5",
   "metadata": {},
   "outputs": [
    {
     "name": "stdout",
     "output_type": "stream",
     "text": [
      "Some of the popular languages that Data Scientists use are: ['Python', 'R', 'SQL', 'Java', 'Scala', 'SAS']\n"
     ]
    }
   ],
   "source": [
    "languages = [\"Python\", \"R\", \"SQL\", \"Java\", \"Scala\", \"SAS\"]\n",
    "print(\"Some of the popular languages that Data Scientists use are:\", languages)\n",
    "\n"
   ]
  },
  {
   "cell_type": "code",
   "execution_count": 12,
   "id": "3538a09c",
   "metadata": {},
   "outputs": [
    {
     "name": "stdout",
     "output_type": "stream",
     "text": [
      "Some of the commonly used libraries used by Data Scientists include: ['Pandas', 'NumPy', 'SciPy', 'Scikit-learn', 'Matplotlib', 'Seaborn']\n"
     ]
    }
   ],
   "source": [
    "libraries = [\"Pandas\", \"NumPy\", \"SciPy\", \"Scikit-learn\", \"Matplotlib\", \"Seaborn\"]\n",
    "print(\"Some of the commonly used libraries used by Data Scientists include:\", libraries)\n"
   ]
  },
  {
   "cell_type": "code",
   "execution_count": 14,
   "id": "09513e03",
   "metadata": {},
   "outputs": [
    {
     "name": "stdout",
     "output_type": "stream",
     "text": [
      "| Data Science Tools |\n"
     ]
    }
   ],
   "source": [
    "print(\"| Data Science Tools |\")\n"
   ]
  },
  {
   "cell_type": "markdown",
   "id": "c7d4e2b4",
   "metadata": {},
   "source": [
    "Some of the commonly used libraries used by Data Scientists include:\n",
    "\n",
    "1. **Pandas**: A library providing high-performance, easy-to-use data structures and data analysis tools.\n",
    "2. **NumPy**: A library for the Python programming language, adding support for large, multi-dimensional arrays and matrices, along with a large collection of high-level mathematical functions to operate on these arrays.\n",
    "3. **Matplotlib**: A 2D plotting library which produces publication-quality figures in a variety of formats and interactive environments across platforms.\n",
    "4. **Scikit-Learn**: A library for machine learning in Python, it features various classification, regression, and clustering algorithms.\n"
   ]
  },
  {
   "cell_type": "markdown",
   "id": "4d9989c7",
   "metadata": {},
   "source": [
    "### Below are a few examples of evaluating arithmetic expressions in Python.\n",
    "\n",
    "1. Addition: `3 + 4` evaluates to `7`\n",
    "2. Subtraction: `10 - 6` evaluates to `4`\n",
    "3. Multiplication: `5 * 3` evaluates to `15`\n",
    "4. Division: `8 / 2` evaluates to `4.0`\n",
    "5. Exponentiation: `2**3` evaluates to `8`\n",
    "6. Modulus (remainder): `10 % 3` evaluates to `1`\n"
   ]
  },
  {
   "cell_type": "markdown",
   "id": "9dd21abc",
   "metadata": {},
   "source": []
  },
  {
   "cell_type": "markdown",
   "id": "cc1689a7",
   "metadata": {},
   "source": [
    "# This is a simple arithmetic expression to multiply then add integers\n",
    "result = (3 * 4) + 5\n",
    "result\n"
   ]
  },
  {
   "cell_type": "code",
   "execution_count": 18,
   "id": "02e8f745",
   "metadata": {},
   "outputs": [
    {
     "data": {
      "text/plain": [
       "3.3333333333333335"
      ]
     },
     "execution_count": 18,
     "metadata": {},
     "output_type": "execute_result"
    }
   ],
   "source": [
    "# This will convert 200 minutes to hours by dividing by 60\n",
    "hours = 200 / 60\n",
    "hours\n"
   ]
  },
  {
   "cell_type": "markdown",
   "id": "d25190f7",
   "metadata": {},
   "source": [
    "**Objectives:**\n",
    "\n",
    "- List popular languages for Data Science.\n",
    "- Introduce basic arithmetic operations in Python.\n",
    "- Explain how to multiply and add integers in a single expression.\n",
    "- Convert minutes to hours.\n",
    "- Describe some commonly used libraries in Data Science.\n"
   ]
  },
  {
   "cell_type": "markdown",
   "id": "e3e9b423",
   "metadata": {},
   "source": []
  },
  {
   "cell_type": "markdown",
   "id": "0c54694e",
   "metadata": {},
   "source": [
    "## Author\n",
    "Your Name\n"
   ]
  },
  {
   "cell_type": "code",
   "execution_count": null,
   "id": "6bbe8b13",
   "metadata": {},
   "outputs": [],
   "source": []
  }
 ],
 "metadata": {
  "kernelspec": {
   "display_name": "Python 3 (ipykernel)",
   "language": "python",
   "name": "python3"
  },
  "language_info": {
   "codemirror_mode": {
    "name": "ipython",
    "version": 3
   },
   "file_extension": ".py",
   "mimetype": "text/x-python",
   "name": "python",
   "nbconvert_exporter": "python",
   "pygments_lexer": "ipython3",
   "version": "3.11.5"
  }
 },
 "nbformat": 4,
 "nbformat_minor": 5
}
